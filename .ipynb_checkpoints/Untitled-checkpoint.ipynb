{
 "cells": [
  {
   "cell_type": "code",
   "execution_count": 1,
   "id": "4ad2aba2",
   "metadata": {
    "scrolled": false
   },
   "outputs": [
    {
     "name": "stdout",
     "output_type": "stream",
     "text": [
      "https://adventofcode.com/2022/day/1\n"
     ]
    }
   ],
   "source": [
    "print(\"https://adventofcode.com/2022/day/1\");"
   ]
  },
  {
   "cell_type": "code",
   "execution_count": 10,
   "id": "492d11a4",
   "metadata": {
    "scrolled": true
   },
   "outputs": [
    {
     "name": "stdout",
     "output_type": "stream",
     "text": [
      "part1\n",
      "70369\n"
     ]
    }
   ],
   "source": [
    "print(\"part1\")\n",
    "with open('input/d1/a.txt') as file:\n",
    "    lines = file.readlines()\n",
    "\n",
    "total_max = 0;\n",
    "local_max = 0;\n",
    "\n",
    "for line in lines:\n",
    "    if(line == '\\n'):\n",
    "        total_max = max(local_max, total_max);\n",
    "        local_max = 0;\n",
    "    else:\n",
    "        local_max += int(line);\n",
    "\n",
    "print(total_max);"
   ]
  },
  {
   "cell_type": "code",
   "execution_count": 14,
   "id": "fdab167f",
   "metadata": {},
   "outputs": [
    {
     "name": "stdout",
     "output_type": "stream",
     "text": [
      "part2\n",
      "203002\n"
     ]
    }
   ],
   "source": [
    "print(\"part2\")\n",
    "with open('input/d1/a.txt') as file:\n",
    "    lines = file.readlines()\n",
    "\n",
    "carried = [];\n",
    "local_max = 0;\n",
    "\n",
    "for line in lines:\n",
    "    if(line == '\\n'):\n",
    "        carried.append(local_max)\n",
    "        local_max = 0;\n",
    "    else:\n",
    "        local_max += int(line);\n",
    "\n",
    "carried.sort();\n",
    "length = len(carried);\n",
    "print(carried[length - 1] + carried[length - 2] + carried[length - 3]);"
   ]
  },
  {
   "cell_type": "code",
   "execution_count": null,
   "id": "582fb123",
   "metadata": {},
   "outputs": [],
   "source": [
    "print(\"https://adventofcode.com/2022/day/2\");"
   ]
  },
  {
   "cell_type": "code",
   "execution_count": 20,
   "id": "332be277",
   "metadata": {},
   "outputs": [
    {
     "name": "stdout",
     "output_type": "stream",
     "text": [
      "part2\n"
     ]
    },
    {
     "ename": "AttributeError",
     "evalue": "'list' object has no attribute 'replace'",
     "output_type": "error",
     "traceback": [
      "\u001b[1;31m---------------------------------------------------------------------------\u001b[0m",
      "\u001b[1;31mAttributeError\u001b[0m                            Traceback (most recent call last)",
      "Cell \u001b[1;32mIn[20], line 3\u001b[0m\n\u001b[0;32m      1\u001b[0m \u001b[38;5;28mprint\u001b[39m(\u001b[38;5;124m\"\u001b[39m\u001b[38;5;124mpart2\u001b[39m\u001b[38;5;124m\"\u001b[39m)\n\u001b[0;32m      2\u001b[0m \u001b[38;5;28;01mwith\u001b[39;00m \u001b[38;5;28mopen\u001b[39m(\u001b[38;5;124m'\u001b[39m\u001b[38;5;124minput/d2/a.txt\u001b[39m\u001b[38;5;124m'\u001b[39m) \u001b[38;5;28;01mas\u001b[39;00m file:\n\u001b[1;32m----> 3\u001b[0m     lines \u001b[38;5;241m=\u001b[39m \u001b[43mfile\u001b[49m\u001b[38;5;241;43m.\u001b[39;49m\u001b[43mreadlines\u001b[49m\u001b[43m(\u001b[49m\u001b[43m)\u001b[49m\u001b[38;5;241;43m.\u001b[39;49m\u001b[43mreplace\u001b[49m(\u001b[38;5;124m\"\u001b[39m\u001b[38;5;130;01m\\n\u001b[39;00m\u001b[38;5;124m\"\u001b[39m, \u001b[38;5;124m\"\u001b[39m\u001b[38;5;124m, \u001b[39m\u001b[38;5;124m\"\u001b[39m)\n\u001b[0;32m      5\u001b[0m outcomes \u001b[38;5;241m=\u001b[39m {\n\u001b[0;32m      6\u001b[0m     \u001b[38;5;124m\"\u001b[39m\u001b[38;5;124mA X\u001b[39m\u001b[38;5;124m\"\u001b[39m:\u001b[38;5;241m4\u001b[39m,\n\u001b[0;32m      7\u001b[0m     \u001b[38;5;124m\"\u001b[39m\u001b[38;5;124mA Y\u001b[39m\u001b[38;5;124m\"\u001b[39m:\u001b[38;5;241m8\u001b[39m,\n\u001b[1;32m   (...)\u001b[0m\n\u001b[0;32m     14\u001b[0m     \u001b[38;5;124m\"\u001b[39m\u001b[38;5;124mC Z\u001b[39m\u001b[38;5;124m\"\u001b[39m:\u001b[38;5;241m6\u001b[39m\n\u001b[0;32m     15\u001b[0m }\n\u001b[0;32m     17\u001b[0m score \u001b[38;5;241m=\u001b[39m \u001b[38;5;241m0\u001b[39m;\n",
      "\u001b[1;31mAttributeError\u001b[0m: 'list' object has no attribute 'replace'"
     ]
    }
   ],
   "source": [
    "print(\"part2\")\n",
    "with open('input/d2/a.txt') as file:\n",
    "    lines = file.readlines()\n",
    "\n",
    "outcomes = {\n",
    "    \"A X\":4,\n",
    "    \"A Y\":8,\n",
    "    \"A Z\":3,\n",
    "    \"B X\":1,\n",
    "    \"B Y\":5,\n",
    "    \"B Z\":9,\n",
    "    \"C X\":7,\n",
    "    \"C Y\":2,\n",
    "    \"C Z\":6\n",
    "}\n",
    "    \n",
    "score = 0;\n",
    "\n",
    "for line in lines:\n",
    "    line.replace(\"\\n\", \", \");\n",
    "    score += outcomes[line];\n",
    "\n",
    "print(score);"
   ]
  },
  {
   "cell_type": "code",
   "execution_count": null,
   "id": "317891fd",
   "metadata": {},
   "outputs": [],
   "source": []
  }
 ],
 "metadata": {
  "kernelspec": {
   "display_name": "Python 3 (ipykernel)",
   "language": "python",
   "name": "python3"
  },
  "language_info": {
   "codemirror_mode": {
    "name": "ipython",
    "version": 3
   },
   "file_extension": ".py",
   "mimetype": "text/x-python",
   "name": "python",
   "nbconvert_exporter": "python",
   "pygments_lexer": "ipython3",
   "version": "3.9.5"
  }
 },
 "nbformat": 4,
 "nbformat_minor": 5
}
