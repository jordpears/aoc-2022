{
 "cells": [
  {
   "cell_type": "code",
   "execution_count": 178,
   "id": "c320492b",
   "metadata": {
    "scrolled": false
   },
   "outputs": [
    {
     "name": "stdout",
     "output_type": "stream",
     "text": [
      "https://adventofcode.com/2022/day/1\n"
     ]
    }
   ],
   "source": [
    "print(\"https://adventofcode.com/2022/day/1\");"
   ]
  },
  {
   "cell_type": "code",
   "execution_count": 179,
   "id": "2941e839",
   "metadata": {
    "scrolled": true
   },
   "outputs": [
    {
     "name": "stdout",
     "output_type": "stream",
     "text": [
      "part1\n",
      "70369\n"
     ]
    }
   ],
   "source": [
    "print(\"part1\")\n",
    "with open('input/d1/a.txt') as file:\n",
    "    lines = file.readlines()\n",
    "\n",
    "total_max = 0;\n",
    "local_max = 0;\n",
    "\n",
    "for line in lines:\n",
    "    if(line == '\\n'):\n",
    "        total_max = max(local_max, total_max);\n",
    "        local_max = 0;\n",
    "    else:\n",
    "        local_max += int(line);\n",
    "\n",
    "print(total_max);"
   ]
  },
  {
   "cell_type": "code",
   "execution_count": 180,
   "id": "7ec6a641",
   "metadata": {},
   "outputs": [
    {
     "name": "stdout",
     "output_type": "stream",
     "text": [
      "part2\n",
      "203002\n"
     ]
    }
   ],
   "source": [
    "print(\"part2\")\n",
    "with open('input/d1/a.txt') as file:\n",
    "    lines = file.readlines()\n",
    "\n",
    "carried = [];\n",
    "local_max = 0;\n",
    "\n",
    "for line in lines:\n",
    "    if(line == '\\n'):\n",
    "        carried.append(local_max)\n",
    "        local_max = 0;\n",
    "    else:\n",
    "        local_max += int(line);\n",
    "\n",
    "carried.sort();\n",
    "length = len(carried);\n",
    "print(carried[length - 1] + carried[length - 2] + carried[length - 3]);"
   ]
  },
  {
   "cell_type": "code",
   "execution_count": 181,
   "id": "b936392f",
   "metadata": {},
   "outputs": [
    {
     "name": "stdout",
     "output_type": "stream",
     "text": [
      "https://adventofcode.com/2022/day/3\n"
     ]
    }
   ],
   "source": [
    "print(\"https://adventofcode.com/2022/day/3\")"
   ]
  },
  {
   "cell_type": "code",
   "execution_count": 182,
   "id": "43fbd342",
   "metadata": {},
   "outputs": [
    {
     "name": "stdout",
     "output_type": "stream",
     "text": [
      "part1\n",
      "8392\n"
     ]
    }
   ],
   "source": [
    "print(\"part1\")\n",
    "with open('input/d2/a.txt') as file:\n",
    "    lines = file.readlines()\n",
    "\n",
    "outcomes = {\n",
    "    \"A X\":4,\n",
    "    \"A Y\":8,\n",
    "    \"A Z\":3,\n",
    "    \"B X\":1,\n",
    "    \"B Y\":5,\n",
    "    \"B Z\":9,\n",
    "    \"C X\":7,\n",
    "    \"C Y\":2,\n",
    "    \"C Z\":6\n",
    "}\n",
    "    \n",
    "score = 0;\n",
    "\n",
    "for line in lines:\n",
    "    line = line.replace(\"\\n\", \"\");\n",
    "    score += outcomes[line];\n",
    "\n",
    "print(score);"
   ]
  },
  {
   "cell_type": "code",
   "execution_count": 183,
   "id": "67969c38",
   "metadata": {},
   "outputs": [
    {
     "name": "stdout",
     "output_type": "stream",
     "text": [
      "part2\n",
      "10116\n"
     ]
    }
   ],
   "source": [
    "print(\"part2\")\n",
    "with open('input/d2/a.txt') as file:\n",
    "    lines = file.readlines()\n",
    "\n",
    "#x = lose, y = draw, z = win\n",
    "#r = 1, p = 2, s = 3\n",
    "outcomes = {\n",
    "    \"A X\":3,\n",
    "    \"A Y\":1+3,\n",
    "    \"A Z\":2+6,\n",
    "    \"B X\":1,\n",
    "    \"B Y\":2+3,\n",
    "    \"B Z\":3+6,\n",
    "    \"C X\":2,\n",
    "    \"C Y\":3+3,\n",
    "    \"C Z\":1+6\n",
    "}\n",
    "    \n",
    "score = 0;\n",
    "\n",
    "for line in lines:\n",
    "    line = line.replace(\"\\n\", \"\");\n",
    "    score += outcomes[line];\n",
    "\n",
    "print(score);"
   ]
  },
  {
   "cell_type": "code",
   "execution_count": 184,
   "id": "3f0035a7",
   "metadata": {},
   "outputs": [
    {
     "name": "stdout",
     "output_type": "stream",
     "text": [
      "https://adventofcode.com/2022/day/3\n"
     ]
    }
   ],
   "source": [
    "print('https://adventofcode.com/2022/day/3')"
   ]
  },
  {
   "cell_type": "code",
   "execution_count": 185,
   "id": "3afd306c",
   "metadata": {},
   "outputs": [
    {
     "name": "stdout",
     "output_type": "stream",
     "text": [
      "part1\n",
      "8240\n"
     ]
    }
   ],
   "source": [
    "print(\"part1\")\n",
    "with open('input/d3/a.txt') as file:\n",
    "    lines = file.readlines()\n",
    "\n",
    "def getPriority(val):\n",
    "    if(ord(val) <= ord('Z') and ord(val) >= ord('A')):\n",
    "        return ord(val) - 38;\n",
    "    else:\n",
    "        return ord(val) - 96;\n",
    "\n",
    "# print(getPriority('Z') == 52)\n",
    "# print(getPriority('B') == 28)\n",
    "# print(getPriority('b') == 2)\n",
    "# print(getPriority('z') == 26)\n",
    "result = 0;\n",
    "\n",
    "for line in lines:\n",
    "    compartment_1 = [];\n",
    "    compartment_2 = [];\n",
    "    halfway = int(len(line)/2);\n",
    "    for letter in line[halfway:]:\n",
    "#         print(letter + ' ' + str(ord(letter) - base))\n",
    "        compartment_1.append(getPriority(letter));\n",
    "    for letter in line[:halfway]:\n",
    "        compartment_2.append(getPriority(letter));\n",
    "    compartment_1 = list(dict.fromkeys(compartment_1))\n",
    "    compartment_2 = list(dict.fromkeys(compartment_2))\n",
    "    occurances = {}\n",
    "    for val in compartment_1:\n",
    "        occurances[val] = occurances.get(val, 0) + 1\n",
    "    for val in compartment_2:\n",
    "        occurances[val] = occurances.get(val, 0) + 1\n",
    "    for k, v in occurances.items():\n",
    "        if(v == 2):\n",
    "            result += k;\n",
    "print(result);\n"
   ]
  },
  {
   "cell_type": "code",
   "execution_count": 186,
   "id": "e8315839",
   "metadata": {},
   "outputs": [
    {
     "name": "stdout",
     "output_type": "stream",
     "text": [
      "part2\n",
      "2587\n"
     ]
    }
   ],
   "source": [
    "print(\"part2\")\n",
    "with open('input/d3/a.txt') as file:\n",
    "    lines = file.read().splitlines()\n",
    "\n",
    "def getPriority(val):\n",
    "    if(ord(val) <= ord('Z') and ord(val) >= ord('A')):\n",
    "        return ord(val) - 38;\n",
    "    else:\n",
    "        return ord(val) - 96;\n",
    "    \n",
    "result = 0;\n",
    "sacks = [[],[],[]];\n",
    "count = 0;\n",
    "\n",
    "for line in lines:\n",
    "    sack = [];\n",
    "    for letter in line:\n",
    "        sack.append(getPriority(letter));\n",
    "        sack = list(dict.fromkeys(sack));\n",
    "    sacks[count] = sack;\n",
    "    count += 1;\n",
    "    \n",
    "    if(count == 3):\n",
    "        occurances = {}\n",
    "        for sack in sacks:\n",
    "            for item in sack:\n",
    "                occurances[item] = occurances.get(item, 0) + 1\n",
    "        for k, v in occurances.items():\n",
    "            if(v == 3):\n",
    "                result += k;\n",
    "        count = 0;\n",
    "        sacks = [[],[],[]];\n",
    "    \n",
    "print(result);"
   ]
  },
  {
   "cell_type": "code",
   "execution_count": 1,
   "id": "f77bc57f",
   "metadata": {},
   "outputs": [
    {
     "name": "stdout",
     "output_type": "stream",
     "text": [
      "https://adventofcode.com/2022/day/4\n"
     ]
    }
   ],
   "source": [
    "print(\"https://adventofcode.com/2022/day/4\");"
   ]
  },
  {
   "cell_type": "code",
   "execution_count": 3,
   "id": "b8940370",
   "metadata": {},
   "outputs": [
    {
     "name": "stdout",
     "output_type": "stream",
     "text": [
      "part1\n",
      "506\n"
     ]
    }
   ],
   "source": [
    "print(\"part1\")\n",
    "with open('input/d4/a.txt') as file:\n",
    "    lines = file.read().splitlines()\n",
    "\n",
    "result = 0\n",
    "for line in lines:\n",
    "    nums = line.replace(',','-').split('-')\n",
    "    if(nums[1] == nums[3]):\n",
    "        result += 1\n",
    "    else:\n",
    "        lower_outer_index = nums.index(min(nums[1], nums[3]))\n",
    "#         print(line)\n",
    "#         print(result)\n",
    "        if(lower_outer_index == 1):\n",
    "            result += 1 if nums[0] >= nums[2] else 0\n",
    "        else:\n",
    "            result += 1 if nums[2] >= nums[0] else 0\n",
    "#         print(result)\n",
    "            \n",
    "print(result)"
   ]
  },
  {
   "cell_type": "code",
   "execution_count": 2,
   "id": "c994f493",
   "metadata": {},
   "outputs": [
    {
     "name": "stdout",
     "output_type": "stream",
     "text": [
      "https://adventofcode.com/2022/day/5\n"
     ]
    }
   ],
   "source": [
    "print(\"https://adventofcode.com/2022/day/5\")"
   ]
  },
  {
   "cell_type": "code",
   "execution_count": 136,
   "id": "e1f5fb5c",
   "metadata": {},
   "outputs": [
    {
     "name": "stdout",
     "output_type": "stream",
     "text": [
      "WSFTMRHPP\n"
     ]
    }
   ],
   "source": [
    "print(\"part1\")\n",
    "\n",
    "def printstack(stacks):\n",
    "    for i in range(len(stacks)):\n",
    "        print(i + 1)\n",
    "        print(stacks[i])\n",
    "\n",
    "with open('input/d5/a.txt') as file:\n",
    "    lines = file.read().splitlines()\n",
    "    \n",
    "##prepare the stack\n",
    "stack = [[],[],[],[],[],[],[],[],[]]\n",
    "for line in lines[:8]:\n",
    "    for i in range(9):\n",
    "        element = line[4*i:(4*i)+4];\n",
    "        if(element != '    '):\n",
    "            stack[i].append(element)\n",
    "for i in range(9):\n",
    "    stack[i].reverse()\n",
    "\n",
    "actions = [] #[number to move, from here, to here]\n",
    "for line in lines[10:]:\n",
    "    actions.append([int(line[5:line.find(\" from \")]), int(line[line.find(\" from \") + 6:line.find(\" to \")]), int(line[line.find(\" to \") + 4:])])\n",
    "\n",
    "# printstack(stack)\n",
    "\n",
    "for action in actions:\n",
    "#     print(action)\n",
    "    from_stack = action[1] - 1;\n",
    "    to_stack = action[2] - 1;\n",
    "    for i in range(action[0]):\n",
    "        if(len(stack[from_stack]) != 0):\n",
    "            element = stack[from_stack].pop();\n",
    "            stack[to_stack].append(element);\n",
    "            \n",
    "# printstack(stack)\n",
    "\n",
    "result = ''\n",
    "for thing in stack:\n",
    "    if(len(thing) == 0):\n",
    "        top = ''\n",
    "    else:\n",
    "        top = str(thing.pop())\n",
    "    result+=top\n",
    "result = result.replace(' ','').replace('[', '').replace(']','')\n",
    "print(result)"
   ]
  },
  {
   "cell_type": "code",
   "execution_count": 138,
   "id": "f0175ae1",
   "metadata": {},
   "outputs": [
    {
     "name": "stdout",
     "output_type": "stream",
     "text": [
      "part2\n",
      "GSLCMFBRP\n"
     ]
    }
   ],
   "source": [
    "print(\"part2\")\n",
    "\n",
    "def printstack(stacks):\n",
    "    for i in range(len(stacks)):\n",
    "        print(i + 1)\n",
    "        print(stacks[i])\n",
    "\n",
    "with open('input/d5/a.txt') as file:\n",
    "    lines = file.read().splitlines()\n",
    "    \n",
    "##prepare the stack\n",
    "stack = [[],[],[],[],[],[],[],[],[]]\n",
    "for line in lines[:8]:\n",
    "    for i in range(9):\n",
    "        element = line[4*i:(4*i)+4];\n",
    "        if(element != '    '):\n",
    "            stack[i].append(element)\n",
    "for i in range(9):\n",
    "    stack[i].reverse()\n",
    "\n",
    "actions = [] #[number to move, from here, to here]\n",
    "for line in lines[10:]:\n",
    "    actions.append([int(line[5:line.find(\" from \")]), int(line[line.find(\" from \") + 6:line.find(\" to \")]), int(line[line.find(\" to \") + 4:])])\n",
    "\n",
    "# printstack(stack)\n",
    "\n",
    "for action in actions:\n",
    "#     print(action)\n",
    "    from_stack = action[1] - 1;\n",
    "    to_stack = action[2] - 1;\n",
    "    collection = [];\n",
    "    for i in range(action[0]):\n",
    "        if(len(stack[from_stack]) != 0):\n",
    "            element = stack[from_stack].pop();\n",
    "            collection.append(element);\n",
    "    collection.reverse()\n",
    "    stack[to_stack] += collection\n",
    "            \n",
    "# printstack(stack)\n",
    "\n",
    "result = ''\n",
    "for thing in stack:\n",
    "    if(len(thing) == 0):\n",
    "        top = ''\n",
    "    else:\n",
    "        top = str(thing.pop())\n",
    "    result+=top\n",
    "result = result.replace(' ','').replace('[', '').replace(']','')\n",
    "print(result)"
   ]
  },
  {
   "cell_type": "code",
   "execution_count": 150,
   "id": "23d254eb",
   "metadata": {},
   "outputs": [
    {
     "name": "stdout",
     "output_type": "stream",
     "text": [
      "https://adventofcode.com/2022/day/6\n"
     ]
    }
   ],
   "source": [
    "print(\"https://adventofcode.com/2022/day/6\")"
   ]
  },
  {
   "cell_type": "code",
   "execution_count": 183,
   "id": "f2d5c585",
   "metadata": {},
   "outputs": [
    {
     "name": "stdout",
     "output_type": "stream",
     "text": [
      "part1\n",
      "1647\n"
     ]
    }
   ],
   "source": [
    "print(\"part1\")\n",
    "with open('input/d6/a.txt') as file:\n",
    "    lines = file.read().splitlines()\n",
    "    \n",
    "result = 4\n",
    "for i in range(4,len(lines[0])):\n",
    "    if(len(set(lines[0][i-4:i])) == 4):\n",
    "        break;\n",
    "    result += 1\n",
    "    \n",
    "print(result)"
   ]
  },
  {
   "cell_type": "code",
   "execution_count": 190,
   "id": "f30820be",
   "metadata": {},
   "outputs": [
    {
     "name": "stdout",
     "output_type": "stream",
     "text": [
      "part2\n",
      "2447\n"
     ]
    }
   ],
   "source": [
    "print(\"part2\")\n",
    "with open('input/d6/a.txt') as file:\n",
    "    lines = file.read().splitlines()\n",
    "\n",
    "result = 14\n",
    "for i in range(14,len(lines[0])):\n",
    "    if(len(set(lines[0][i-14:i])) == 14):\n",
    "        break;\n",
    "    result += 1\n",
    "    \n",
    "print(result)"
   ]
  }
 ],
 "metadata": {
  "kernelspec": {
   "display_name": "Python 3 (ipykernel)",
   "language": "python",
   "name": "python3"
  },
  "language_info": {
   "codemirror_mode": {
    "name": "ipython",
    "version": 3
   },
   "file_extension": ".py",
   "mimetype": "text/x-python",
   "name": "python",
   "nbconvert_exporter": "python",
   "pygments_lexer": "ipython3",
   "version": "3.9.13"
  }
 },
 "nbformat": 4,
 "nbformat_minor": 5
}
