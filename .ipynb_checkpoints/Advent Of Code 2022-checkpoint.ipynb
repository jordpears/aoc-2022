{
 "cells": [
  {
   "cell_type": "code",
   "execution_count": 178,
   "id": "c320492b",
   "metadata": {
    "scrolled": false
   },
   "outputs": [
    {
     "name": "stdout",
     "output_type": "stream",
     "text": [
      "https://adventofcode.com/2022/day/1\n"
     ]
    }
   ],
   "source": [
    "print(\"https://adventofcode.com/2022/day/1\");"
   ]
  },
  {
   "cell_type": "code",
   "execution_count": 179,
   "id": "2941e839",
   "metadata": {
    "scrolled": true
   },
   "outputs": [
    {
     "name": "stdout",
     "output_type": "stream",
     "text": [
      "part1\n",
      "70369\n"
     ]
    }
   ],
   "source": [
    "print(\"part1\")\n",
    "with open('input/d1/a.txt') as file:\n",
    "    lines = file.readlines()\n",
    "\n",
    "total_max = 0;\n",
    "local_max = 0;\n",
    "\n",
    "for line in lines:\n",
    "    if(line == '\\n'):\n",
    "        total_max = max(local_max, total_max);\n",
    "        local_max = 0;\n",
    "    else:\n",
    "        local_max += int(line);\n",
    "\n",
    "print(total_max);"
   ]
  },
  {
   "cell_type": "code",
   "execution_count": 180,
   "id": "7ec6a641",
   "metadata": {},
   "outputs": [
    {
     "name": "stdout",
     "output_type": "stream",
     "text": [
      "part2\n",
      "203002\n"
     ]
    }
   ],
   "source": [
    "print(\"part2\")\n",
    "with open('input/d1/a.txt') as file:\n",
    "    lines = file.readlines()\n",
    "\n",
    "carried = [];\n",
    "local_max = 0;\n",
    "\n",
    "for line in lines:\n",
    "    if(line == '\\n'):\n",
    "        carried.append(local_max)\n",
    "        local_max = 0;\n",
    "    else:\n",
    "        local_max += int(line);\n",
    "\n",
    "carried.sort();\n",
    "length = len(carried);\n",
    "print(carried[length - 1] + carried[length - 2] + carried[length - 3]);"
   ]
  },
  {
   "cell_type": "code",
   "execution_count": 181,
   "id": "b936392f",
   "metadata": {},
   "outputs": [
    {
     "name": "stdout",
     "output_type": "stream",
     "text": [
      "https://adventofcode.com/2022/day/3\n"
     ]
    }
   ],
   "source": [
    "print(\"https://adventofcode.com/2022/day/3\")"
   ]
  },
  {
   "cell_type": "code",
   "execution_count": 182,
   "id": "43fbd342",
   "metadata": {},
   "outputs": [
    {
     "name": "stdout",
     "output_type": "stream",
     "text": [
      "part1\n",
      "8392\n"
     ]
    }
   ],
   "source": [
    "print(\"part1\")\n",
    "with open('input/d2/a.txt') as file:\n",
    "    lines = file.readlines()\n",
    "\n",
    "outcomes = {\n",
    "    \"A X\":4,\n",
    "    \"A Y\":8,\n",
    "    \"A Z\":3,\n",
    "    \"B X\":1,\n",
    "    \"B Y\":5,\n",
    "    \"B Z\":9,\n",
    "    \"C X\":7,\n",
    "    \"C Y\":2,\n",
    "    \"C Z\":6\n",
    "}\n",
    "    \n",
    "score = 0;\n",
    "\n",
    "for line in lines:\n",
    "    line = line.replace(\"\\n\", \"\");\n",
    "    score += outcomes[line];\n",
    "\n",
    "print(score);"
   ]
  },
  {
   "cell_type": "code",
   "execution_count": 183,
   "id": "67969c38",
   "metadata": {},
   "outputs": [
    {
     "name": "stdout",
     "output_type": "stream",
     "text": [
      "part2\n",
      "10116\n"
     ]
    }
   ],
   "source": [
    "print(\"part2\")\n",
    "with open('input/d2/a.txt') as file:\n",
    "    lines = file.readlines()\n",
    "\n",
    "#x = lose, y = draw, z = win\n",
    "#r = 1, p = 2, s = 3\n",
    "outcomes = {\n",
    "    \"A X\":3,\n",
    "    \"A Y\":1+3,\n",
    "    \"A Z\":2+6,\n",
    "    \"B X\":1,\n",
    "    \"B Y\":2+3,\n",
    "    \"B Z\":3+6,\n",
    "    \"C X\":2,\n",
    "    \"C Y\":3+3,\n",
    "    \"C Z\":1+6\n",
    "}\n",
    "    \n",
    "score = 0;\n",
    "\n",
    "for line in lines:\n",
    "    line = line.replace(\"\\n\", \"\");\n",
    "    score += outcomes[line];\n",
    "\n",
    "print(score);"
   ]
  },
  {
   "cell_type": "code",
   "execution_count": 184,
   "id": "3f0035a7",
   "metadata": {},
   "outputs": [
    {
     "name": "stdout",
     "output_type": "stream",
     "text": [
      "https://adventofcode.com/2022/day/3\n"
     ]
    }
   ],
   "source": [
    "print('https://adventofcode.com/2022/day/3')"
   ]
  },
  {
   "cell_type": "code",
   "execution_count": 185,
   "id": "3afd306c",
   "metadata": {},
   "outputs": [
    {
     "name": "stdout",
     "output_type": "stream",
     "text": [
      "part1\n",
      "8240\n"
     ]
    }
   ],
   "source": [
    "print(\"part1\")\n",
    "with open('input/d3/a.txt') as file:\n",
    "    lines = file.readlines()\n",
    "\n",
    "def getPriority(val):\n",
    "    if(ord(val) <= ord('Z') and ord(val) >= ord('A')):\n",
    "        return ord(val) - 38;\n",
    "    else:\n",
    "        return ord(val) - 96;\n",
    "\n",
    "# print(getPriority('Z') == 52)\n",
    "# print(getPriority('B') == 28)\n",
    "# print(getPriority('b') == 2)\n",
    "# print(getPriority('z') == 26)\n",
    "result = 0;\n",
    "\n",
    "for line in lines:\n",
    "    compartment_1 = [];\n",
    "    compartment_2 = [];\n",
    "    halfway = int(len(line)/2);\n",
    "    for letter in line[halfway:]:\n",
    "#         print(letter + ' ' + str(ord(letter) - base))\n",
    "        compartment_1.append(getPriority(letter));\n",
    "    for letter in line[:halfway]:\n",
    "        compartment_2.append(getPriority(letter));\n",
    "    compartment_1 = list(dict.fromkeys(compartment_1))\n",
    "    compartment_2 = list(dict.fromkeys(compartment_2))\n",
    "    occurances = {}\n",
    "    for val in compartment_1:\n",
    "        occurances[val] = occurances.get(val, 0) + 1\n",
    "    for val in compartment_2:\n",
    "        occurances[val] = occurances.get(val, 0) + 1\n",
    "    for k, v in occurances.items():\n",
    "        if(v == 2):\n",
    "            result += k;\n",
    "print(result);\n"
   ]
  },
  {
   "cell_type": "code",
   "execution_count": 186,
   "id": "e8315839",
   "metadata": {},
   "outputs": [
    {
     "name": "stdout",
     "output_type": "stream",
     "text": [
      "part2\n",
      "2587\n"
     ]
    }
   ],
   "source": [
    "print(\"part2\")\n",
    "with open('input/d3/a.txt') as file:\n",
    "    lines = file.read().splitlines()\n",
    "\n",
    "def getPriority(val):\n",
    "    if(ord(val) <= ord('Z') and ord(val) >= ord('A')):\n",
    "        return ord(val) - 38;\n",
    "    else:\n",
    "        return ord(val) - 96;\n",
    "    \n",
    "result = 0;\n",
    "sacks = [[],[],[]];\n",
    "count = 0;\n",
    "\n",
    "for line in lines:\n",
    "    sack = [];\n",
    "    for letter in line:\n",
    "        sack.append(getPriority(letter));\n",
    "        sack = list(dict.fromkeys(sack));\n",
    "    sacks[count] = sack;\n",
    "    count += 1;\n",
    "    \n",
    "    if(count == 3):\n",
    "        occurances = {}\n",
    "        for sack in sacks:\n",
    "            for item in sack:\n",
    "                occurances[item] = occurances.get(item, 0) + 1\n",
    "        for k, v in occurances.items():\n",
    "            if(v == 3):\n",
    "                result += k;\n",
    "        count = 0;\n",
    "        sacks = [[],[],[]];\n",
    "    \n",
    "print(result);"
   ]
  },
  {
   "cell_type": "code",
   "execution_count": null,
   "id": "f77bc57f",
   "metadata": {},
   "outputs": [],
   "source": []
  }
 ],
 "metadata": {
  "kernelspec": {
   "display_name": "Python 3 (ipykernel)",
   "language": "python",
   "name": "python3"
  },
  "language_info": {
   "codemirror_mode": {
    "name": "ipython",
    "version": 3
   },
   "file_extension": ".py",
   "mimetype": "text/x-python",
   "name": "python",
   "nbconvert_exporter": "python",
   "pygments_lexer": "ipython3",
   "version": "3.9.5"
  }
 },
 "nbformat": 4,
 "nbformat_minor": 5
}
