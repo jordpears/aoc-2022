{
 "cells": [
  {
   "cell_type": "code",
   "execution_count": 1,
   "id": "1828ef84",
   "metadata": {
    "scrolled": false
   },
   "outputs": [
    {
     "name": "stdout",
     "output_type": "stream",
     "text": [
      "https://adventofcode.com/2022/day/1\n"
     ]
    }
   ],
   "source": [
    "print(\"https://adventofcode.com/2022/day/1\");"
   ]
  },
  {
   "cell_type": "code",
   "execution_count": 10,
   "id": "9f254bfa",
   "metadata": {
    "scrolled": true
   },
   "outputs": [
    {
     "name": "stdout",
     "output_type": "stream",
     "text": [
      "part1\n",
      "70369\n"
     ]
    }
   ],
   "source": [
    "print(\"part1\")\n",
    "with open('input/d1/a.txt') as file:\n",
    "    lines = file.readlines()\n",
    "\n",
    "total_max = 0;\n",
    "local_max = 0;\n",
    "\n",
    "for line in lines:\n",
    "    if(line == '\\n'):\n",
    "        total_max = max(local_max, total_max);\n",
    "        local_max = 0;\n",
    "    else:\n",
    "        local_max += int(line);\n",
    "\n",
    "print(total_max);"
   ]
  },
  {
   "cell_type": "code",
   "execution_count": 14,
   "id": "5e7966f1",
   "metadata": {},
   "outputs": [
    {
     "name": "stdout",
     "output_type": "stream",
     "text": [
      "part2\n",
      "203002\n"
     ]
    }
   ],
   "source": [
    "print(\"part2\")\n",
    "with open('input/d1/a.txt') as file:\n",
    "    lines = file.readlines()\n",
    "\n",
    "carried = [];\n",
    "local_max = 0;\n",
    "\n",
    "for line in lines:\n",
    "    if(line == '\\n'):\n",
    "        carried.append(local_max)\n",
    "        local_max = 0;\n",
    "    else:\n",
    "        local_max += int(line);\n",
    "\n",
    "carried.sort();\n",
    "length = len(carried);\n",
    "print(carried[length - 1] + carried[length - 2] + carried[length - 3]);"
   ]
  },
  {
   "cell_type": "code",
   "execution_count": 26,
   "id": "aed3dde1",
   "metadata": {},
   "outputs": [
    {
     "name": "stdout",
     "output_type": "stream",
     "text": [
      "https://adventofcode.com/2022/day/2\n"
     ]
    }
   ],
   "source": [
    "https://adventofcode.com/2022/day/3"
   ]
  },
  {
   "cell_type": "code",
   "execution_count": 27,
   "id": "751be1e3",
   "metadata": {},
   "outputs": [
    {
     "name": "stdout",
     "output_type": "stream",
     "text": [
      "part1\n",
      "8392\n"
     ]
    }
   ],
   "source": [
    "print(\"part1\")\n",
    "with open('input/d2/a.txt') as file:\n",
    "    lines = file.readlines()\n",
    "\n",
    "outcomes = {\n",
    "    \"A X\":4,\n",
    "    \"A Y\":8,\n",
    "    \"A Z\":3,\n",
    "    \"B X\":1,\n",
    "    \"B Y\":5,\n",
    "    \"B Z\":9,\n",
    "    \"C X\":7,\n",
    "    \"C Y\":2,\n",
    "    \"C Z\":6\n",
    "}\n",
    "    \n",
    "score = 0;\n",
    "\n",
    "for line in lines:\n",
    "    line = line.replace(\"\\n\", \"\");\n",
    "    score += outcomes[line];\n",
    "\n",
    "print(score);"
   ]
  },
  {
   "cell_type": "code",
   "execution_count": 28,
   "id": "71443dc1",
   "metadata": {},
   "outputs": [
    {
     "name": "stdout",
     "output_type": "stream",
     "text": [
      "part2\n",
      "10116\n"
     ]
    }
   ],
   "source": [
    "print(\"part2\")\n",
    "with open('input/d2/a.txt') as file:\n",
    "    lines = file.readlines()\n",
    "\n",
    "#x = lose, y = draw, z = win\n",
    "#r = 1, p = 2, s = 3\n",
    "outcomes = {\n",
    "    \"A X\":3,\n",
    "    \"A Y\":1+3,\n",
    "    \"A Z\":2+6,\n",
    "    \"B X\":1,\n",
    "    \"B Y\":2+3,\n",
    "    \"B Z\":3+6,\n",
    "    \"C X\":2,\n",
    "    \"C Y\":3+3,\n",
    "    \"C Z\":1+6\n",
    "}\n",
    "    \n",
    "score = 0;\n",
    "\n",
    "for line in lines:\n",
    "    line = line.replace(\"\\n\", \"\");\n",
    "    score += outcomes[line];\n",
    "\n",
    "print(score);"
   ]
  },
  {
   "cell_type": "code",
   "execution_count": 29,
   "id": "c76d2623",
   "metadata": {},
   "outputs": [
    {
     "name": "stdout",
     "output_type": "stream",
     "text": [
      "https://adventofcode.com/2022/day/3\n"
     ]
    }
   ],
   "source": [
    "print('https://adventofcode.com/2022/day/3')"
   ]
  },
  {
   "cell_type": "code",
   "execution_count": null,
   "id": "e5301028",
   "metadata": {},
   "outputs": [],
   "source": []
  }
 ],
 "metadata": {
  "kernelspec": {
   "display_name": "Python 3 (ipykernel)",
   "language": "python",
   "name": "python3"
  },
  "language_info": {
   "codemirror_mode": {
    "name": "ipython",
    "version": 3
   },
   "file_extension": ".py",
   "mimetype": "text/x-python",
   "name": "python",
   "nbconvert_exporter": "python",
   "pygments_lexer": "ipython3",
   "version": "3.9.5"
  }
 },
 "nbformat": 4,
 "nbformat_minor": 5
}
